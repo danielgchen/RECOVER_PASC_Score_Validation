{
 "cells": [
  {
   "cell_type": "code",
   "execution_count": 1,
   "id": "83bab7c3",
   "metadata": {},
   "outputs": [],
   "source": [
    "import pandas as pd"
   ]
  },
  {
   "cell_type": "code",
   "execution_count": 2,
   "id": "6cc8e377",
   "metadata": {},
   "outputs": [],
   "source": [
    "# read in the COVID-19 data\n",
    "df = pd.read_table('/home/dchen/Downloads/COVID-19/scRNAseq_analysis/data/clinical_info/patient_information_2021-11-03_1042.tsv', index_col=0)\n",
    "data_ind = pd.read_csv('../../data/INCOV.PA.symptoms.CELL2023.csv', index_col=0)\n",
    "data_ind.index = 'INCOV' + data_ind.index.astype(str).str.zfill(3)\n",
    "df = df.loc[data_ind.index]"
   ]
  },
  {
   "cell_type": "code",
   "execution_count": 3,
   "id": "50207d64",
   "metadata": {},
   "outputs": [
    {
     "data": {
      "text/plain": [
       "(52.12, 16.195180485803238)"
      ]
     },
     "execution_count": 3,
     "metadata": {},
     "output_type": "execute_result"
    }
   ],
   "source": [
    "# age\n",
    "df['age_at_baseline'].mean(), df['age_at_baseline'].std()"
   ]
  },
  {
   "cell_type": "code",
   "execution_count": 4,
   "id": "85106aeb",
   "metadata": {},
   "outputs": [
    {
     "data": {
      "text/plain": [
       "(72, 0.576)"
      ]
     },
     "execution_count": 4,
     "metadata": {},
     "output_type": "execute_result"
    }
   ],
   "source": [
    "# female\n",
    "(df['sex'] == 'Female').sum(), (df['sex'] == 'Female').mean()"
   ]
  },
  {
   "cell_type": "code",
   "execution_count": 5,
   "id": "263264ac",
   "metadata": {},
   "outputs": [
    {
     "data": {
      "text/plain": [
       "White                                        68\n",
       "Unknown / Not Reported                       20\n",
       "Asian                                        16\n",
       "Black or African American                    13\n",
       "Native Hawaiian or Other Pacific Islander     4\n",
       "American Indian/Alaska Native                 3\n",
       "More Than One Race                            1\n",
       "Name: race, dtype: int64"
      ]
     },
     "execution_count": 5,
     "metadata": {},
     "output_type": "execute_result"
    }
   ],
   "source": [
    "# race\n",
    "df['race'].value_counts()"
   ]
  },
  {
   "cell_type": "code",
   "execution_count": 6,
   "id": "a2c8a264",
   "metadata": {},
   "outputs": [
    {
     "data": {
      "text/plain": [
       "NOT Hispanic or Latino    105\n",
       "Hispanic or Latino         14\n",
       "Unknown / Not Reported      6\n",
       "Name: ethnicity, dtype: int64"
      ]
     },
     "execution_count": 6,
     "metadata": {},
     "output_type": "execute_result"
    }
   ],
   "source": [
    "# ethnicity\n",
    "df['ethnicity'].value_counts()"
   ]
  },
  {
   "cell_type": "code",
   "execution_count": 7,
   "id": "f13d9cd4",
   "metadata": {},
   "outputs": [],
   "source": [
    "# read in the COVID-19 data\n",
    "df = pd.read_table('/home/dchen/Downloads/COVID-19/scRNAseq_analysis/data/clinical_info/observations_2021-11-03_1042.tsv', index_col=0)\n",
    "data_ind = pd.read_csv('../../data/INCOV.PA.symptoms.CELL2023.csv', index_col=0)\n",
    "data_ind.index = 'INCOV' + data_ind.index.astype(str).str.zfill(3)\n",
    "df = df.loc[df['incov_redcap_event_name'] == 'baseline_blood_dra_arm_1']\n",
    "df = df.loc[data_ind.index]\n",
    "assert df.shape[0] == 125"
   ]
  },
  {
   "cell_type": "code",
   "execution_count": 8,
   "id": "0272b158",
   "metadata": {},
   "outputs": [
    {
     "data": {
      "text/plain": [
       "Home (mobile phlebotomy)    54\n",
       "Hospital                    48\n",
       "ICU                         20\n",
       "Clinic                       3\n",
       "Name: patient_location, dtype: int64"
      ]
     },
     "execution_count": 8,
     "metadata": {},
     "output_type": "execute_result"
    }
   ],
   "source": [
    "# encounter location\n",
    "df['patient_location'].value_counts()"
   ]
  },
  {
   "cell_type": "code",
   "execution_count": 9,
   "id": "e1a878d3",
   "metadata": {
    "scrolled": true
   },
   "outputs": [
    {
     "data": {
      "text/plain": [
       "1 or 2    43\n",
       "4         26\n",
       "3         19\n",
       "1         14\n",
       "5         11\n",
       "7          8\n",
       "6          4\n",
       "Name: who_ordinal_scale, dtype: int64"
      ]
     },
     "execution_count": 9,
     "metadata": {},
     "output_type": "execute_result"
    }
   ],
   "source": [
    "# WOS\n",
    "df['who_ordinal_scale'].value_counts()"
   ]
  },
  {
   "cell_type": "code",
   "execution_count": 10,
   "id": "2dcc6d4b",
   "metadata": {},
   "outputs": [
    {
     "data": {
      "text/plain": [
       "None                              76\n",
       "Nasal cannula                     26\n",
       "Other                             12\n",
       "High flow nasal cannula (HFNC)    11\n",
       "dtype: int64"
      ]
     },
     "execution_count": 10,
     "metadata": {},
     "output_type": "execute_result"
    }
   ],
   "source": [
    "# get respiratory support values\n",
    "tmp = pd.DataFrame(index=df.index)\n",
    "for idx in df['respiratory_support'].dropna().index:\n",
    "    idys = df.loc[idx, 'respiratory_support'].split(',')\n",
    "    for idy in idys:\n",
    "        if idy not in tmp.columns:\n",
    "            tmp[idy] = 0\n",
    "        tmp.loc[idx, idy] += 1\n",
    "tmp.sum(0).sort_values()[::-1]"
   ]
  },
  {
   "cell_type": "code",
   "execution_count": 11,
   "id": "2f6589f8",
   "metadata": {},
   "outputs": [
    {
     "data": {
      "text/plain": [
       "12"
      ]
     },
     "execution_count": 11,
     "metadata": {},
     "output_type": "execute_result"
    }
   ],
   "source": [
    "# ventilation\n",
    "df['mechanical_ventilation'].sum()"
   ]
  },
  {
   "cell_type": "code",
   "execution_count": 12,
   "id": "d66f4e58",
   "metadata": {},
   "outputs": [],
   "source": [
    "# read in the COVID-19 data\n",
    "df = pd.read_table('/home/dchen/Downloads/COVID-19/scRNAseq_analysis/data/clinical_info/medical_history_2021-11-03_1042.tsv', index_col=0)\n",
    "data_ind = pd.read_csv('../../data/INCOV.PA.symptoms.CELL2023.csv', index_col=0)\n",
    "data_ind.index = 'INCOV' + data_ind.index.astype(str).str.zfill(3)\n",
    "df = df.loc[data_ind.index]\n",
    "assert df.shape[0] == 125"
   ]
  },
  {
   "cell_type": "code",
   "execution_count": 13,
   "id": "4af74560",
   "metadata": {},
   "outputs": [
    {
     "data": {
      "text/plain": [
       "No     103\n",
       "Yes     22\n",
       "Name: asthma, dtype: int64"
      ]
     },
     "execution_count": 13,
     "metadata": {},
     "output_type": "execute_result"
    }
   ],
   "source": [
    "# asthma\n",
    "df['asthma'].value_counts()"
   ]
  },
  {
   "cell_type": "code",
   "execution_count": 14,
   "id": "c5e5c068",
   "metadata": {},
   "outputs": [
    {
     "data": {
      "text/plain": [
       "No     118\n",
       "Yes      7\n",
       "Name: copd, dtype: int64"
      ]
     },
     "execution_count": 14,
     "metadata": {},
     "output_type": "execute_result"
    }
   ],
   "source": [
    "# COPD\n",
    "df['copd'].value_counts()"
   ]
  },
  {
   "cell_type": "code",
   "execution_count": 15,
   "id": "3a66f8e3",
   "metadata": {},
   "outputs": [
    {
     "data": {
      "text/plain": [
       "No     112\n",
       "Yes     13\n",
       "Name: cancer, dtype: int64"
      ]
     },
     "execution_count": 15,
     "metadata": {},
     "output_type": "execute_result"
    }
   ],
   "source": [
    "# cancer\n",
    "df['cancer'].value_counts()"
   ]
  },
  {
   "cell_type": "code",
   "execution_count": 16,
   "id": "45d8d0c2",
   "metadata": {},
   "outputs": [
    {
     "data": {
      "text/plain": [
       "No     87\n",
       "Yes    38\n",
       "Name: chronic_hypertension, dtype: int64"
      ]
     },
     "execution_count": 16,
     "metadata": {},
     "output_type": "execute_result"
    }
   ],
   "source": [
    "# hypertension\n",
    "df['chronic_hypertension'].value_counts()"
   ]
  },
  {
   "cell_type": "code",
   "execution_count": 17,
   "id": "42025115",
   "metadata": {},
   "outputs": [
    {
     "data": {
      "text/plain": [
       "No     119\n",
       "Yes      6\n",
       "Name: ckd, dtype: int64"
      ]
     },
     "execution_count": 17,
     "metadata": {},
     "output_type": "execute_result"
    }
   ],
   "source": [
    "# CKD\n",
    "df['ckd'].value_counts()"
   ]
  },
  {
   "cell_type": "code",
   "execution_count": 18,
   "id": "e1032ee4",
   "metadata": {},
   "outputs": [
    {
     "data": {
      "text/plain": [
       "No     119\n",
       "Yes      6\n",
       "Name: congestive_heart_failure, dtype: int64"
      ]
     },
     "execution_count": 18,
     "metadata": {},
     "output_type": "execute_result"
    }
   ],
   "source": [
    "# CHF\n",
    "df['congestive_heart_failure'].value_counts()"
   ]
  },
  {
   "cell_type": "code",
   "execution_count": 19,
   "id": "efcfd15a",
   "metadata": {},
   "outputs": [
    {
     "data": {
      "text/plain": [
       "No     118\n",
       "Yes      7\n",
       "Name: coronary_artery_disease, dtype: int64"
      ]
     },
     "execution_count": 19,
     "metadata": {},
     "output_type": "execute_result"
    }
   ],
   "source": [
    "# CAD\n",
    "df['coronary_artery_disease'].value_counts()"
   ]
  },
  {
   "cell_type": "code",
   "execution_count": 20,
   "id": "caf583fb",
   "metadata": {},
   "outputs": [
    {
     "data": {
      "text/plain": [
       "No       105\n",
       "T2DM      16\n",
       "Other      3\n",
       "T1DM       1\n",
       "Name: diabetes, dtype: int64"
      ]
     },
     "execution_count": 20,
     "metadata": {},
     "output_type": "execute_result"
    }
   ],
   "source": [
    "# DM\n",
    "df['diabetes'].value_counts()"
   ]
  },
  {
   "cell_type": "code",
   "execution_count": 21,
   "id": "da78590e",
   "metadata": {},
   "outputs": [
    {
     "data": {
      "text/plain": [
       "No    125\n",
       "Name: hiv, dtype: int64"
      ]
     },
     "execution_count": 21,
     "metadata": {},
     "output_type": "execute_result"
    }
   ],
   "source": [
    "# HIV\n",
    "df['hiv'].value_counts()"
   ]
  },
  {
   "cell_type": "code",
   "execution_count": 22,
   "id": "1bf59e13",
   "metadata": {},
   "outputs": [
    {
     "data": {
      "text/plain": [
       "No     122\n",
       "Yes      3\n",
       "Name: immunocompromised, dtype: int64"
      ]
     },
     "execution_count": 22,
     "metadata": {},
     "output_type": "execute_result"
    }
   ],
   "source": [
    "# immunocompromised\n",
    "df['immunocompromised'].value_counts()"
   ]
  },
  {
   "cell_type": "code",
   "execution_count": 23,
   "id": "f43ad54a",
   "metadata": {},
   "outputs": [],
   "source": [
    "# read in HAARVI symptoms\n",
    "df = pd.read_csv('/home/dchen/Downloads/COVID-19/scRNAseq_analysis/write/SYMPTOM_output/HAARVI_survey_20210524.csv', index_col=0)\n",
    "# > rows are patient IDs, columns are symptoms\n",
    "data_ind = pd.read_csv('../../data/HAARVI.PA.symptoms.CELL2023.csv', index_col=0)\n",
    "data_ind = data_ind.dropna(how='all')\n",
    "data_ind['n_symps'] = data_ind.sum(1)\n",
    "# read in JAMA score for HAARVI patients\n",
    "HAARVI_scores = pd.read_csv('outputs/HAARVI.JAMA_scores.csv', squeeze=True, index_col=0)\n",
    "# add on JAMA score to the plotting object\n",
    "data_ind['JAMA_score'] = data_ind.index.map(HAARVI_scores)\n",
    "# get data\n",
    "df = df.loc[data_ind.index]"
   ]
  },
  {
   "cell_type": "code",
   "execution_count": 24,
   "id": "b408be05",
   "metadata": {},
   "outputs": [
    {
     "data": {
      "text/plain": [
       "(48.03607252818181, 15.310634299952035)"
      ]
     },
     "execution_count": 24,
     "metadata": {},
     "output_type": "execute_result"
    }
   ],
   "source": [
    "# age\n",
    "df['Age'].mean(), df['Age'].std()"
   ]
  },
  {
   "cell_type": "code",
   "execution_count": 25,
   "id": "e4af8642",
   "metadata": {},
   "outputs": [
    {
     "data": {
      "text/plain": [
       "(101, 0.5706214689265536)"
      ]
     },
     "execution_count": 25,
     "metadata": {},
     "output_type": "execute_result"
    }
   ],
   "source": [
    "# female\n",
    "(df['Sex'] == 'Female').sum(), (df['Sex'] == 'Female').mean()"
   ]
  },
  {
   "cell_type": "code",
   "execution_count": 26,
   "id": "af7457b6",
   "metadata": {},
   "outputs": [
    {
     "data": {
      "text/plain": [
       "White                                               138\n",
       "Asian                                                18\n",
       "Other                                                 4\n",
       "Asian, White                                          3\n",
       "American Indian or Alaska Native, White               3\n",
       "Black or African American                             3\n",
       "Black or African American, White                      2\n",
       "American Indian or Alaska Native                      2\n",
       "Prefer not to say                                     1\n",
       "White, Prefer not to say                              1\n",
       "White, Other                                          1\n",
       "Native Hawaiian or other Pacific Islander, White      1\n",
       "Name: Race, dtype: int64"
      ]
     },
     "execution_count": 26,
     "metadata": {},
     "output_type": "execute_result"
    }
   ],
   "source": [
    "# race\n",
    "df['Race'].value_counts()"
   ]
  },
  {
   "cell_type": "code",
   "execution_count": 27,
   "id": "d3a0a783",
   "metadata": {},
   "outputs": [
    {
     "data": {
      "text/plain": [
       "No                   169\n",
       "Yes                    7\n",
       "Prefer not to say      1\n",
       "Name: Hispanic, dtype: int64"
      ]
     },
     "execution_count": 27,
     "metadata": {},
     "output_type": "execute_result"
    }
   ],
   "source": [
    "# ethnicity\n",
    "df['Hispanic'].value_counts()"
   ]
  },
  {
   "cell_type": "code",
   "execution_count": 28,
   "id": "a5b3c954",
   "metadata": {
    "scrolled": true
   },
   "outputs": [],
   "source": [
    "# encounter location\n",
    "tmp = pd.DataFrame(index=df.index)\n",
    "for idx in df.index:\n",
    "    idys = df.loc[idx, 'En_Medical_Treatment'].split(',')\n",
    "    idys = [x.strip() for x in idys]\n",
    "    for idy in idys:\n",
    "        if idy not in tmp.columns:\n",
    "            tmp[idy] = 0\n",
    "        tmp.loc[idx, idy] += 1"
   ]
  },
  {
   "cell_type": "code",
   "execution_count": 29,
   "id": "09f1308d",
   "metadata": {},
   "outputs": [
    {
     "data": {
      "text/plain": [
       "Drive-through testing only                                        98\n",
       "Admitted to hospital                                              10\n",
       "Saw primary care doctor/nurse practitioner/physician assistent    43\n",
       "Urgent Care                                                       13\n",
       "None of the above                                                 35\n",
       "Emergency Room                                                    13\n",
       "Admitted to ICU                                                    7\n",
       "Acute patient (though not admitted to ICU)                         3\n",
       "dtype: int64"
      ]
     },
     "execution_count": 29,
     "metadata": {},
     "output_type": "execute_result"
    }
   ],
   "source": [
    "tmp.sum(0)"
   ]
  },
  {
   "cell_type": "code",
   "execution_count": 30,
   "id": "41c8ab0b",
   "metadata": {},
   "outputs": [
    {
     "data": {
      "text/plain": [
       "98"
      ]
     },
     "execution_count": 30,
     "metadata": {},
     "output_type": "execute_result"
    }
   ],
   "source": [
    "tmp['Drive-through testing only'].sum()"
   ]
  },
  {
   "cell_type": "code",
   "execution_count": 31,
   "id": "241c7ed7",
   "metadata": {},
   "outputs": [
    {
     "data": {
      "text/plain": [
       "43"
      ]
     },
     "execution_count": 31,
     "metadata": {},
     "output_type": "execute_result"
    }
   ],
   "source": [
    "cols = ['Saw primary care doctor/nurse practitioner/physician assistent',]\n",
    "(tmp[cols] > 0).any(1).sum()"
   ]
  },
  {
   "cell_type": "code",
   "execution_count": 32,
   "id": "72cd6e17",
   "metadata": {},
   "outputs": [
    {
     "data": {
      "text/plain": [
       "13"
      ]
     },
     "execution_count": 32,
     "metadata": {},
     "output_type": "execute_result"
    }
   ],
   "source": [
    "cols = ['Acute patient (though not admitted to ICU)',\n",
    "        'Admitted to hospital']\n",
    "(tmp[cols] > 0).any(1).sum()"
   ]
  },
  {
   "cell_type": "code",
   "execution_count": 33,
   "id": "24f64e71",
   "metadata": {},
   "outputs": [
    {
     "data": {
      "text/plain": [
       "7"
      ]
     },
     "execution_count": 33,
     "metadata": {},
     "output_type": "execute_result"
    }
   ],
   "source": [
    "cols = ['Admitted to ICU',]\n",
    "(tmp[cols] > 0).any(1).sum()"
   ]
  },
  {
   "cell_type": "code",
   "execution_count": 34,
   "id": "bac71fa5",
   "metadata": {},
   "outputs": [
    {
     "data": {
      "text/plain": [
       "Supplemental oxygen         11\n",
       "Room air                     7\n",
       "Mechanical Ventilation       4\n",
       "Non-invasive ventilation     3\n",
       "dtype: int64"
      ]
     },
     "execution_count": 34,
     "metadata": {},
     "output_type": "execute_result"
    }
   ],
   "source": [
    "# get respiratory support values\n",
    "tmp = pd.DataFrame(index=df.index)\n",
    "for idx in df['Respiratory_Support'].dropna().index:\n",
    "    idys = df.loc[idx, 'Respiratory_Support'].split(',')\n",
    "    idys = [x.strip() for x in idys]\n",
    "    for idy in idys:\n",
    "        if idy not in tmp.columns:\n",
    "            tmp[idy] = 0\n",
    "        tmp.loc[idx, idy] += 1\n",
    "tmp.sum(0).sort_values()[::-1]"
   ]
  },
  {
   "cell_type": "code",
   "execution_count": 35,
   "id": "d3f20312",
   "metadata": {},
   "outputs": [
    {
     "data": {
      "text/plain": [
       "Mild        165\n",
       "Moderate      9\n",
       "Severe        3\n",
       "Name: CSA_Severity_Scale, dtype: int64"
      ]
     },
     "execution_count": 35,
     "metadata": {},
     "output_type": "execute_result"
    }
   ],
   "source": [
    "# severity\n",
    "df['CSA_Severity_Scale'].value_counts()"
   ]
  },
  {
   "cell_type": "code",
   "execution_count": 36,
   "id": "ec22923e",
   "metadata": {},
   "outputs": [
    {
     "data": {
      "text/plain": [
       "Do not know                 136\n",
       "Hypertension                 23\n",
       "Diabetes                      9\n",
       "None of the above             4\n",
       "Cardiovascular Disease        3\n",
       "HIV                           2\n",
       "COPD/emphysema                2\n",
       "Chronic liver disease         1\n",
       "Cancer                        1\n",
       "Asthma                        1\n",
       "On Chronic Dialysis           1\n",
       "Obstructive Sleep Apnoea      1\n",
       "dtype: int64"
      ]
     },
     "execution_count": 36,
     "metadata": {},
     "output_type": "execute_result"
    }
   ],
   "source": [
    "# get preexisting conditions\n",
    "tmp = pd.DataFrame(index=df.index)\n",
    "for idx in df['Preexisiting_Conditions'].dropna().index:\n",
    "    idys = df.loc[idx, 'Preexisiting_Conditions'].split(',')\n",
    "    idys = [x.strip() for x in idys]\n",
    "    for idy in idys:\n",
    "        if idy not in tmp.columns:\n",
    "            tmp[idy] = 0\n",
    "        tmp.loc[idx, idy] += 1\n",
    "tmp.sum(0).sort_values()[::-1]"
   ]
  }
 ],
 "metadata": {
  "kernelspec": {
   "display_name": "Python 3",
   "language": "python",
   "name": "python3"
  },
  "language_info": {
   "codemirror_mode": {
    "name": "ipython",
    "version": 3
   },
   "file_extension": ".py",
   "mimetype": "text/x-python",
   "name": "python",
   "nbconvert_exporter": "python",
   "pygments_lexer": "ipython3",
   "version": "3.8.13"
  }
 },
 "nbformat": 4,
 "nbformat_minor": 5
}
